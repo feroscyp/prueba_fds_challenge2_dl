{
 "cells": [
  {
   "cell_type": "markdown",
   "id": "d14636ea",
   "metadata": {},
   "source": [
    "### Autor: Fernando Ordinola"
   ]
  },
  {
   "cell_type": "markdown",
   "id": "6feffe91",
   "metadata": {},
   "source": [
    "# Preliminares"
   ]
  },
  {
   "cell_type": "markdown",
   "id": "299d21f7",
   "metadata": {},
   "source": [
    "><b>Formulación del problema:</b> La escuela está buscando una forma más efectiva de identificar a los estudiantes que pueden tener malos resultados durante un período educativo. También quiere tener en cuenta los atributos predictores que más afectan a una mala calificación para tomar medidas preventivas en los casos relevantes. Sin embargo, esto es complicado de hacer con un gran número de estudiantes y la falta de modelos algorítmicos que simplifiquen el proceso.\n",
    "<br>\n",
    "<br>\n",
    "><b>Objetivo principal:</b> de este proyecto es desarrollar modelos descriptivos que permitan identificar predictores significativos y crear un modelo predictivo que permita estimar el promedio final de un estudiante.\n",
    "<br>\n",
    "<br>\n",
    "><b>Objetivos especificos:</b>\n",
    "><ul>\n",
    "><li>Procesar la data disponible para ser usada en entrenamiento de un algoritmo regresivo.</li>\n",
    "><li>Dividir el dataset para entrenamiento </li>\n",
    "><li>Ejecutar pruebas de hipótesis para validar predictores significativos</li>\n",
    "></ul>\n",
    "<br>\n",
    "><b> Implementación del modelo:</b> Se hará uso de un modelo de regresión lineal, ya que nuestro vector objetivo es de carácter continuo y dependiente, como son las calificaciones de un estudiante que pueden tomar valores no enteros, dependiendo de una serie de otros atributos independientes o también conocidos como predictores.\n",
    "<br>\n",
    "<br>\n",
    "><b>Métricas de desempeño:</b>\n",
    "><ul>\n",
    "><li>Error cuadrático medio</li>\n",
    "><li>Error medio absoluto</li>\n",
    "><li>R cuadrado</li>\n",
    "><li>P valores de los coeficientes</li>\n",
    "><li>P valores de prueba general del modelo</li>\n",
    "></ul>"
   ]
  },
  {
   "cell_type": "markdown",
   "id": "e51ef954",
   "metadata": {},
   "source": [
    "# Aspectos Computacionales"
   ]
  },
  {
   "cell_type": "markdown",
   "id": "49db09b5",
   "metadata": {},
   "source": [
    "> Librerías a utilizar\n",
    "><li>pandas</li>\n",
    "><li>numpy</li>\n",
    "><li>matplotlib</li>\n",
    "><li>statsmodel</li>\n",
    "><li>seaborn</li>\n",
    "><li>warnings</li>\n",
    "><li>sklearn</li>\n",
    "\n",
    ">Modulo propio con funciones utilitarias: functions.py"
   ]
  },
  {
   "cell_type": "markdown",
   "id": "6330f7ae",
   "metadata": {},
   "source": [
    "# Descripción"
   ]
  },
  {
   "cell_type": "code",
   "execution_count": 1,
   "id": "7bc27da0",
   "metadata": {},
   "outputs": [],
   "source": [
    "import pandas as pd\n",
    "import numpy as np\n",
    "import seaborn as sns\n",
    "import matplotlib.pyplot as plt\n",
    "import functions as pyfunc\n",
    "import warnings\n",
    "import scipy.stats as stats\n",
    "\n",
    "import statsmodels.formula.api as smf\n",
    "\n",
    "warnings.filterwarnings(action=\"ignore\")\n",
    "plt.style.use('seaborn')\n",
    "\n",
    "from sklearn.linear_model import LogisticRegression\n",
    "from sklearn.model_selection import train_test_split\n",
    "\n",
    "from sklearn import linear_model\n",
    "from sklearn.metrics import mean_squared_error, r2_score"
   ]
  },
  {
   "cell_type": "code",
   "execution_count": 2,
   "id": "b5258b99",
   "metadata": {
    "scrolled": true
   },
   "outputs": [
    {
     "data": {
      "text/html": [
       "<div>\n",
       "<style scoped>\n",
       "    .dataframe tbody tr th:only-of-type {\n",
       "        vertical-align: middle;\n",
       "    }\n",
       "\n",
       "    .dataframe tbody tr th {\n",
       "        vertical-align: top;\n",
       "    }\n",
       "\n",
       "    .dataframe thead th {\n",
       "        text-align: right;\n",
       "    }\n",
       "</style>\n",
       "<table border=\"1\" class=\"dataframe\">\n",
       "  <thead>\n",
       "    <tr style=\"text-align: right;\">\n",
       "      <th></th>\n",
       "      <th>school</th>\n",
       "      <th>sex</th>\n",
       "      <th>age</th>\n",
       "      <th>address</th>\n",
       "      <th>famsize</th>\n",
       "      <th>Pstatus</th>\n",
       "      <th>Medu</th>\n",
       "      <th>Fedu</th>\n",
       "      <th>Mjob</th>\n",
       "      <th>Fjob</th>\n",
       "      <th>...</th>\n",
       "      <th>famrel</th>\n",
       "      <th>freetime</th>\n",
       "      <th>goout</th>\n",
       "      <th>Dalc</th>\n",
       "      <th>Walc</th>\n",
       "      <th>health</th>\n",
       "      <th>absences</th>\n",
       "      <th>G1</th>\n",
       "      <th>G2</th>\n",
       "      <th>G3</th>\n",
       "    </tr>\n",
       "  </thead>\n",
       "  <tbody>\n",
       "    <tr>\n",
       "      <th>0</th>\n",
       "      <td>GP</td>\n",
       "      <td>F</td>\n",
       "      <td>nulidade</td>\n",
       "      <td>U</td>\n",
       "      <td>GT3</td>\n",
       "      <td>A</td>\n",
       "      <td>4</td>\n",
       "      <td>4</td>\n",
       "      <td>at_home</td>\n",
       "      <td>teacher</td>\n",
       "      <td>...</td>\n",
       "      <td>4</td>\n",
       "      <td>3</td>\n",
       "      <td>\"4\"</td>\n",
       "      <td>1</td>\n",
       "      <td>1</td>\n",
       "      <td>\"3\"</td>\n",
       "      <td>6</td>\n",
       "      <td>5</td>\n",
       "      <td>6</td>\n",
       "      <td>6</td>\n",
       "    </tr>\n",
       "    <tr>\n",
       "      <th>1</th>\n",
       "      <td>GP</td>\n",
       "      <td>F</td>\n",
       "      <td>\"17\"</td>\n",
       "      <td>U</td>\n",
       "      <td>GT3</td>\n",
       "      <td>T</td>\n",
       "      <td>1</td>\n",
       "      <td>1</td>\n",
       "      <td>at_home</td>\n",
       "      <td>other</td>\n",
       "      <td>...</td>\n",
       "      <td>5</td>\n",
       "      <td>3</td>\n",
       "      <td>\"3\"</td>\n",
       "      <td>1</td>\n",
       "      <td>1</td>\n",
       "      <td>\"3\"</td>\n",
       "      <td>4</td>\n",
       "      <td>5</td>\n",
       "      <td>5</td>\n",
       "      <td>6</td>\n",
       "    </tr>\n",
       "    <tr>\n",
       "      <th>2</th>\n",
       "      <td>GP</td>\n",
       "      <td>F</td>\n",
       "      <td>\"15\"</td>\n",
       "      <td>U</td>\n",
       "      <td>LE3</td>\n",
       "      <td>T</td>\n",
       "      <td>1</td>\n",
       "      <td>1</td>\n",
       "      <td>at_home</td>\n",
       "      <td>other</td>\n",
       "      <td>...</td>\n",
       "      <td>4</td>\n",
       "      <td>3</td>\n",
       "      <td>\"2\"</td>\n",
       "      <td>2</td>\n",
       "      <td>3</td>\n",
       "      <td>\"3\"</td>\n",
       "      <td>10</td>\n",
       "      <td>zero</td>\n",
       "      <td>8</td>\n",
       "      <td>10</td>\n",
       "    </tr>\n",
       "    <tr>\n",
       "      <th>3</th>\n",
       "      <td>GP</td>\n",
       "      <td>F</td>\n",
       "      <td>\"15\"</td>\n",
       "      <td>U</td>\n",
       "      <td>GT3</td>\n",
       "      <td>T</td>\n",
       "      <td>4</td>\n",
       "      <td>2</td>\n",
       "      <td>health</td>\n",
       "      <td>services</td>\n",
       "      <td>...</td>\n",
       "      <td>3</td>\n",
       "      <td>2</td>\n",
       "      <td>\"2\"</td>\n",
       "      <td>1</td>\n",
       "      <td>1</td>\n",
       "      <td>\"5\"</td>\n",
       "      <td>2</td>\n",
       "      <td>15</td>\n",
       "      <td>14</td>\n",
       "      <td>15</td>\n",
       "    </tr>\n",
       "    <tr>\n",
       "      <th>4</th>\n",
       "      <td>GP</td>\n",
       "      <td>F</td>\n",
       "      <td>sem validade</td>\n",
       "      <td>U</td>\n",
       "      <td>GT3</td>\n",
       "      <td>T</td>\n",
       "      <td>3</td>\n",
       "      <td>3</td>\n",
       "      <td>other</td>\n",
       "      <td>other</td>\n",
       "      <td>...</td>\n",
       "      <td>4</td>\n",
       "      <td>3</td>\n",
       "      <td>\"2\"</td>\n",
       "      <td>1</td>\n",
       "      <td>2</td>\n",
       "      <td>\"5\"</td>\n",
       "      <td>4</td>\n",
       "      <td>6</td>\n",
       "      <td>10</td>\n",
       "      <td>10</td>\n",
       "    </tr>\n",
       "    <tr>\n",
       "      <th>...</th>\n",
       "      <td>...</td>\n",
       "      <td>...</td>\n",
       "      <td>...</td>\n",
       "      <td>...</td>\n",
       "      <td>...</td>\n",
       "      <td>...</td>\n",
       "      <td>...</td>\n",
       "      <td>...</td>\n",
       "      <td>...</td>\n",
       "      <td>...</td>\n",
       "      <td>...</td>\n",
       "      <td>...</td>\n",
       "      <td>...</td>\n",
       "      <td>...</td>\n",
       "      <td>...</td>\n",
       "      <td>...</td>\n",
       "      <td>...</td>\n",
       "      <td>...</td>\n",
       "      <td>...</td>\n",
       "      <td>...</td>\n",
       "      <td>...</td>\n",
       "    </tr>\n",
       "    <tr>\n",
       "      <th>390</th>\n",
       "      <td>MS</td>\n",
       "      <td>M</td>\n",
       "      <td>\"20\"</td>\n",
       "      <td>U</td>\n",
       "      <td>LE3</td>\n",
       "      <td>A</td>\n",
       "      <td>2</td>\n",
       "      <td>2</td>\n",
       "      <td>services</td>\n",
       "      <td>services</td>\n",
       "      <td>...</td>\n",
       "      <td>5</td>\n",
       "      <td>5</td>\n",
       "      <td>\"4\"</td>\n",
       "      <td>4</td>\n",
       "      <td>5</td>\n",
       "      <td>\"4\"</td>\n",
       "      <td>11</td>\n",
       "      <td>9</td>\n",
       "      <td>9</td>\n",
       "      <td>9</td>\n",
       "    </tr>\n",
       "    <tr>\n",
       "      <th>391</th>\n",
       "      <td>MS</td>\n",
       "      <td>M</td>\n",
       "      <td>\"17\"</td>\n",
       "      <td>U</td>\n",
       "      <td>LE3</td>\n",
       "      <td>T</td>\n",
       "      <td>3</td>\n",
       "      <td>1</td>\n",
       "      <td>services</td>\n",
       "      <td>services</td>\n",
       "      <td>...</td>\n",
       "      <td>2</td>\n",
       "      <td>4</td>\n",
       "      <td>\"5\"</td>\n",
       "      <td>3</td>\n",
       "      <td>4</td>\n",
       "      <td>\"2\"</td>\n",
       "      <td>3</td>\n",
       "      <td>14</td>\n",
       "      <td>16</td>\n",
       "      <td>16</td>\n",
       "    </tr>\n",
       "    <tr>\n",
       "      <th>392</th>\n",
       "      <td>MS</td>\n",
       "      <td>M</td>\n",
       "      <td>\"21\"</td>\n",
       "      <td>R</td>\n",
       "      <td>GT3</td>\n",
       "      <td>T</td>\n",
       "      <td>1</td>\n",
       "      <td>1</td>\n",
       "      <td>other</td>\n",
       "      <td>other</td>\n",
       "      <td>...</td>\n",
       "      <td>5</td>\n",
       "      <td>5</td>\n",
       "      <td>\"3\"</td>\n",
       "      <td>3</td>\n",
       "      <td>3</td>\n",
       "      <td>\"3\"</td>\n",
       "      <td>3</td>\n",
       "      <td>10</td>\n",
       "      <td>8</td>\n",
       "      <td>7</td>\n",
       "    </tr>\n",
       "    <tr>\n",
       "      <th>393</th>\n",
       "      <td>MS</td>\n",
       "      <td>M</td>\n",
       "      <td>\"18\"</td>\n",
       "      <td>R</td>\n",
       "      <td>LE3</td>\n",
       "      <td>T</td>\n",
       "      <td>3</td>\n",
       "      <td>2</td>\n",
       "      <td>services</td>\n",
       "      <td>other</td>\n",
       "      <td>...</td>\n",
       "      <td>4</td>\n",
       "      <td>4</td>\n",
       "      <td>\"1\"</td>\n",
       "      <td>3</td>\n",
       "      <td>4</td>\n",
       "      <td>\"5\"</td>\n",
       "      <td>0</td>\n",
       "      <td>11</td>\n",
       "      <td>12</td>\n",
       "      <td>10</td>\n",
       "    </tr>\n",
       "    <tr>\n",
       "      <th>394</th>\n",
       "      <td>MS</td>\n",
       "      <td>M</td>\n",
       "      <td>\"19\"</td>\n",
       "      <td>U</td>\n",
       "      <td>LE3</td>\n",
       "      <td>T</td>\n",
       "      <td>1</td>\n",
       "      <td>1</td>\n",
       "      <td>other</td>\n",
       "      <td>at_home</td>\n",
       "      <td>...</td>\n",
       "      <td>3</td>\n",
       "      <td>2</td>\n",
       "      <td>\"3\"</td>\n",
       "      <td>3</td>\n",
       "      <td>3</td>\n",
       "      <td>\"5\"</td>\n",
       "      <td>5</td>\n",
       "      <td>8</td>\n",
       "      <td>9</td>\n",
       "      <td>9</td>\n",
       "    </tr>\n",
       "  </tbody>\n",
       "</table>\n",
       "<p>395 rows × 33 columns</p>\n",
       "</div>"
      ],
      "text/plain": [
       "    school sex           age address famsize Pstatus Medu Fedu      Mjob  \\\n",
       "0       GP   F      nulidade       U     GT3       A    4    4   at_home   \n",
       "1       GP   F          \"17\"       U     GT3       T    1    1   at_home   \n",
       "2       GP   F          \"15\"       U     LE3       T    1    1   at_home   \n",
       "3       GP   F          \"15\"       U     GT3       T    4    2    health   \n",
       "4       GP   F  sem validade       U     GT3       T    3    3     other   \n",
       "..     ...  ..           ...     ...     ...     ...  ...  ...       ...   \n",
       "390     MS   M          \"20\"       U     LE3       A    2    2  services   \n",
       "391     MS   M          \"17\"       U     LE3       T    3    1  services   \n",
       "392     MS   M          \"21\"       R     GT3       T    1    1     other   \n",
       "393     MS   M          \"18\"       R     LE3       T    3    2  services   \n",
       "394     MS   M          \"19\"       U     LE3       T    1    1     other   \n",
       "\n",
       "         Fjob  ... famrel freetime goout Dalc Walc health absences    G1  G2  \\\n",
       "0     teacher  ...      4        3   \"4\"    1    1    \"3\"        6     5   6   \n",
       "1       other  ...      5        3   \"3\"    1    1    \"3\"        4     5   5   \n",
       "2       other  ...      4        3   \"2\"    2    3    \"3\"       10  zero   8   \n",
       "3    services  ...      3        2   \"2\"    1    1    \"5\"        2    15  14   \n",
       "4       other  ...      4        3   \"2\"    1    2    \"5\"        4     6  10   \n",
       "..        ...  ...    ...      ...   ...  ...  ...    ...      ...   ...  ..   \n",
       "390  services  ...      5        5   \"4\"    4    5    \"4\"       11     9   9   \n",
       "391  services  ...      2        4   \"5\"    3    4    \"2\"        3    14  16   \n",
       "392     other  ...      5        5   \"3\"    3    3    \"3\"        3    10   8   \n",
       "393     other  ...      4        4   \"1\"    3    4    \"5\"        0    11  12   \n",
       "394   at_home  ...      3        2   \"3\"    3    3    \"5\"        5     8   9   \n",
       "\n",
       "     G3  \n",
       "0     6  \n",
       "1     6  \n",
       "2    10  \n",
       "3    15  \n",
       "4    10  \n",
       "..   ..  \n",
       "390   9  \n",
       "391  16  \n",
       "392   7  \n",
       "393  10  \n",
       "394   9  \n",
       "\n",
       "[395 rows x 33 columns]"
      ]
     },
     "execution_count": 2,
     "metadata": {},
     "output_type": "execute_result"
    }
   ],
   "source": [
    "df = pd.read_csv('students.csv', delimiter='|').drop('Unnamed: 0', axis=1)\n",
    "df"
   ]
  },
  {
   "cell_type": "code",
   "execution_count": 3,
   "id": "a8a62853",
   "metadata": {},
   "outputs": [
    {
     "name": "stdout",
     "output_type": "stream",
     "text": [
      "Columna ya preformateada como int: G2\n"
     ]
    }
   ],
   "source": [
    "for col in df:\n",
    "    try:\n",
    "        #Se remplaza los datos formato texto incorrectos a valores nulos.\n",
    "        df[col] = df[col].replace(['zero', 'nulidade', 'sem validade'], np.nan)\n",
    "        #Se quita el caracter adicional de quatotion marks \"\" de los datos para luego ser transformados a númerico.\n",
    "        df[col] = pd.to_numeric(df[col].str.replace('\"', ''), errors='ignore') \n",
    "        \n",
    "    except:\n",
    "        print('Columna ya preformateada como int:', col)"
   ]
  },
  {
   "cell_type": "code",
   "execution_count": 4,
   "id": "56d2347e",
   "metadata": {
    "scrolled": true
   },
   "outputs": [
    {
     "data": {
      "text/html": [
       "<div>\n",
       "<style scoped>\n",
       "    .dataframe tbody tr th:only-of-type {\n",
       "        vertical-align: middle;\n",
       "    }\n",
       "\n",
       "    .dataframe tbody tr th {\n",
       "        vertical-align: top;\n",
       "    }\n",
       "\n",
       "    .dataframe thead th {\n",
       "        text-align: right;\n",
       "    }\n",
       "</style>\n",
       "<table border=\"1\" class=\"dataframe\">\n",
       "  <thead>\n",
       "    <tr style=\"text-align: right;\">\n",
       "      <th></th>\n",
       "      <th>school</th>\n",
       "      <th>sex</th>\n",
       "      <th>age</th>\n",
       "      <th>address</th>\n",
       "      <th>famsize</th>\n",
       "      <th>Pstatus</th>\n",
       "      <th>Medu</th>\n",
       "      <th>Fedu</th>\n",
       "      <th>Mjob</th>\n",
       "      <th>Fjob</th>\n",
       "      <th>...</th>\n",
       "      <th>famrel</th>\n",
       "      <th>freetime</th>\n",
       "      <th>goout</th>\n",
       "      <th>Dalc</th>\n",
       "      <th>Walc</th>\n",
       "      <th>health</th>\n",
       "      <th>absences</th>\n",
       "      <th>G1</th>\n",
       "      <th>G2</th>\n",
       "      <th>G3</th>\n",
       "    </tr>\n",
       "  </thead>\n",
       "  <tbody>\n",
       "    <tr>\n",
       "      <th>0</th>\n",
       "      <td>GP</td>\n",
       "      <td>F</td>\n",
       "      <td>NaN</td>\n",
       "      <td>U</td>\n",
       "      <td>GT3</td>\n",
       "      <td>A</td>\n",
       "      <td>4.0</td>\n",
       "      <td>4.0</td>\n",
       "      <td>at_home</td>\n",
       "      <td>teacher</td>\n",
       "      <td>...</td>\n",
       "      <td>4.0</td>\n",
       "      <td>3.0</td>\n",
       "      <td>4.0</td>\n",
       "      <td>1.0</td>\n",
       "      <td>1.0</td>\n",
       "      <td>3.0</td>\n",
       "      <td>6.0</td>\n",
       "      <td>5.0</td>\n",
       "      <td>6</td>\n",
       "      <td>6.0</td>\n",
       "    </tr>\n",
       "    <tr>\n",
       "      <th>1</th>\n",
       "      <td>GP</td>\n",
       "      <td>F</td>\n",
       "      <td>17.0</td>\n",
       "      <td>U</td>\n",
       "      <td>GT3</td>\n",
       "      <td>T</td>\n",
       "      <td>1.0</td>\n",
       "      <td>1.0</td>\n",
       "      <td>at_home</td>\n",
       "      <td>other</td>\n",
       "      <td>...</td>\n",
       "      <td>5.0</td>\n",
       "      <td>3.0</td>\n",
       "      <td>3.0</td>\n",
       "      <td>1.0</td>\n",
       "      <td>1.0</td>\n",
       "      <td>3.0</td>\n",
       "      <td>4.0</td>\n",
       "      <td>5.0</td>\n",
       "      <td>5</td>\n",
       "      <td>6.0</td>\n",
       "    </tr>\n",
       "    <tr>\n",
       "      <th>2</th>\n",
       "      <td>GP</td>\n",
       "      <td>F</td>\n",
       "      <td>15.0</td>\n",
       "      <td>U</td>\n",
       "      <td>LE3</td>\n",
       "      <td>T</td>\n",
       "      <td>1.0</td>\n",
       "      <td>1.0</td>\n",
       "      <td>at_home</td>\n",
       "      <td>other</td>\n",
       "      <td>...</td>\n",
       "      <td>4.0</td>\n",
       "      <td>3.0</td>\n",
       "      <td>2.0</td>\n",
       "      <td>2.0</td>\n",
       "      <td>3.0</td>\n",
       "      <td>3.0</td>\n",
       "      <td>10.0</td>\n",
       "      <td>NaN</td>\n",
       "      <td>8</td>\n",
       "      <td>10.0</td>\n",
       "    </tr>\n",
       "    <tr>\n",
       "      <th>3</th>\n",
       "      <td>GP</td>\n",
       "      <td>F</td>\n",
       "      <td>15.0</td>\n",
       "      <td>U</td>\n",
       "      <td>GT3</td>\n",
       "      <td>T</td>\n",
       "      <td>4.0</td>\n",
       "      <td>2.0</td>\n",
       "      <td>health</td>\n",
       "      <td>services</td>\n",
       "      <td>...</td>\n",
       "      <td>3.0</td>\n",
       "      <td>2.0</td>\n",
       "      <td>2.0</td>\n",
       "      <td>1.0</td>\n",
       "      <td>1.0</td>\n",
       "      <td>5.0</td>\n",
       "      <td>2.0</td>\n",
       "      <td>15.0</td>\n",
       "      <td>14</td>\n",
       "      <td>15.0</td>\n",
       "    </tr>\n",
       "    <tr>\n",
       "      <th>4</th>\n",
       "      <td>GP</td>\n",
       "      <td>F</td>\n",
       "      <td>NaN</td>\n",
       "      <td>U</td>\n",
       "      <td>GT3</td>\n",
       "      <td>T</td>\n",
       "      <td>3.0</td>\n",
       "      <td>3.0</td>\n",
       "      <td>other</td>\n",
       "      <td>other</td>\n",
       "      <td>...</td>\n",
       "      <td>4.0</td>\n",
       "      <td>3.0</td>\n",
       "      <td>2.0</td>\n",
       "      <td>1.0</td>\n",
       "      <td>2.0</td>\n",
       "      <td>5.0</td>\n",
       "      <td>4.0</td>\n",
       "      <td>6.0</td>\n",
       "      <td>10</td>\n",
       "      <td>10.0</td>\n",
       "    </tr>\n",
       "  </tbody>\n",
       "</table>\n",
       "<p>5 rows × 33 columns</p>\n",
       "</div>"
      ],
      "text/plain": [
       "  school sex   age address famsize Pstatus  Medu  Fedu     Mjob      Fjob  \\\n",
       "0     GP   F   NaN       U     GT3       A   4.0   4.0  at_home   teacher   \n",
       "1     GP   F  17.0       U     GT3       T   1.0   1.0  at_home     other   \n",
       "2     GP   F  15.0       U     LE3       T   1.0   1.0  at_home     other   \n",
       "3     GP   F  15.0       U     GT3       T   4.0   2.0   health  services   \n",
       "4     GP   F   NaN       U     GT3       T   3.0   3.0    other     other   \n",
       "\n",
       "   ... famrel freetime  goout  Dalc  Walc health absences    G1  G2    G3  \n",
       "0  ...    4.0      3.0    4.0   1.0   1.0    3.0      6.0   5.0   6   6.0  \n",
       "1  ...    5.0      3.0    3.0   1.0   1.0    3.0      4.0   5.0   5   6.0  \n",
       "2  ...    4.0      3.0    2.0   2.0   3.0    3.0     10.0   NaN   8  10.0  \n",
       "3  ...    3.0      2.0    2.0   1.0   1.0    5.0      2.0  15.0  14  15.0  \n",
       "4  ...    4.0      3.0    2.0   1.0   2.0    5.0      4.0   6.0  10  10.0  \n",
       "\n",
       "[5 rows x 33 columns]"
      ]
     },
     "execution_count": 4,
     "metadata": {},
     "output_type": "execute_result"
    }
   ],
   "source": [
    "df.head()"
   ]
  },
  {
   "cell_type": "code",
   "execution_count": 5,
   "id": "12388a19",
   "metadata": {
    "scrolled": false
   },
   "outputs": [
    {
     "data": {
      "text/plain": [
       "Index(['age', 'Medu', 'Fedu', 'traveltime', 'studytime', 'failures', 'famrel',\n",
       "       'freetime', 'goout', 'Dalc', 'Walc', 'health', 'absences', 'G1', 'G2',\n",
       "       'G3', 'school_MS', 'sex_M', 'address_U', 'famsize_LE3', 'Pstatus_T',\n",
       "       'Mjob_health', 'Mjob_other', 'Mjob_services', 'Mjob_teacher',\n",
       "       'Fjob_health', 'Fjob_other', 'Fjob_services', 'Fjob_teacher',\n",
       "       'reason_home', 'reason_other', 'reason_reputation', 'guardian_mother',\n",
       "       'guardian_other', 'schoolsup_yes', 'famsup_yes', 'paid_yes',\n",
       "       'activities_yes', 'nursery_yes', 'higher_yes', 'internet_yes',\n",
       "       'romantic_yes'],\n",
       "      dtype='object')"
      ]
     },
     "execution_count": 5,
     "metadata": {},
     "output_type": "execute_result"
    }
   ],
   "source": [
    "df = pd.get_dummies(df, drop_first=True)\n",
    "df.columns"
   ]
  },
  {
   "cell_type": "code",
   "execution_count": 6,
   "id": "574ae7c6",
   "metadata": {},
   "outputs": [
    {
     "name": "stdout",
     "output_type": "stream",
     "text": [
      "<class 'pandas.core.frame.DataFrame'>\n",
      "RangeIndex: 395 entries, 0 to 394\n",
      "Data columns (total 42 columns):\n",
      " #   Column             Non-Null Count  Dtype  \n",
      "---  ------             --------------  -----  \n",
      " 0   age                391 non-null    float64\n",
      " 1   Medu               392 non-null    float64\n",
      " 2   Fedu               390 non-null    float64\n",
      " 3   traveltime         392 non-null    float64\n",
      " 4   studytime          390 non-null    float64\n",
      " 5   failures           390 non-null    float64\n",
      " 6   famrel             390 non-null    float64\n",
      " 7   freetime           393 non-null    float64\n",
      " 8   goout              390 non-null    float64\n",
      " 9   Dalc               392 non-null    float64\n",
      " 10  Walc               390 non-null    float64\n",
      " 11  health             391 non-null    float64\n",
      " 12  absences           391 non-null    float64\n",
      " 13  G1                 391 non-null    float64\n",
      " 14  G2                 395 non-null    int64  \n",
      " 15  G3                 392 non-null    float64\n",
      " 16  school_MS          395 non-null    uint8  \n",
      " 17  sex_M              395 non-null    uint8  \n",
      " 18  address_U          395 non-null    uint8  \n",
      " 19  famsize_LE3        395 non-null    uint8  \n",
      " 20  Pstatus_T          395 non-null    uint8  \n",
      " 21  Mjob_health        395 non-null    uint8  \n",
      " 22  Mjob_other         395 non-null    uint8  \n",
      " 23  Mjob_services      395 non-null    uint8  \n",
      " 24  Mjob_teacher       395 non-null    uint8  \n",
      " 25  Fjob_health        395 non-null    uint8  \n",
      " 26  Fjob_other         395 non-null    uint8  \n",
      " 27  Fjob_services      395 non-null    uint8  \n",
      " 28  Fjob_teacher       395 non-null    uint8  \n",
      " 29  reason_home        395 non-null    uint8  \n",
      " 30  reason_other       395 non-null    uint8  \n",
      " 31  reason_reputation  395 non-null    uint8  \n",
      " 32  guardian_mother    395 non-null    uint8  \n",
      " 33  guardian_other     395 non-null    uint8  \n",
      " 34  schoolsup_yes      395 non-null    uint8  \n",
      " 35  famsup_yes         395 non-null    uint8  \n",
      " 36  paid_yes           395 non-null    uint8  \n",
      " 37  activities_yes     395 non-null    uint8  \n",
      " 38  nursery_yes        395 non-null    uint8  \n",
      " 39  higher_yes         395 non-null    uint8  \n",
      " 40  internet_yes       395 non-null    uint8  \n",
      " 41  romantic_yes       395 non-null    uint8  \n",
      "dtypes: float64(15), int64(1), uint8(26)\n",
      "memory usage: 59.5 KB\n"
     ]
    }
   ],
   "source": [
    "df.info()"
   ]
  },
  {
   "cell_type": "code",
   "execution_count": 7,
   "id": "98461443",
   "metadata": {},
   "outputs": [
    {
     "data": {
      "text/html": [
       "<div>\n",
       "<style scoped>\n",
       "    .dataframe tbody tr th:only-of-type {\n",
       "        vertical-align: middle;\n",
       "    }\n",
       "\n",
       "    .dataframe tbody tr th {\n",
       "        vertical-align: top;\n",
       "    }\n",
       "\n",
       "    .dataframe thead th {\n",
       "        text-align: right;\n",
       "    }\n",
       "</style>\n",
       "<table border=\"1\" class=\"dataframe\">\n",
       "  <thead>\n",
       "    <tr style=\"text-align: right;\">\n",
       "      <th></th>\n",
       "      <th>age</th>\n",
       "      <th>Medu</th>\n",
       "      <th>Fedu</th>\n",
       "      <th>traveltime</th>\n",
       "      <th>studytime</th>\n",
       "      <th>failures</th>\n",
       "      <th>famrel</th>\n",
       "      <th>freetime</th>\n",
       "      <th>goout</th>\n",
       "      <th>Dalc</th>\n",
       "      <th>...</th>\n",
       "      <th>guardian_mother</th>\n",
       "      <th>guardian_other</th>\n",
       "      <th>schoolsup_yes</th>\n",
       "      <th>famsup_yes</th>\n",
       "      <th>paid_yes</th>\n",
       "      <th>activities_yes</th>\n",
       "      <th>nursery_yes</th>\n",
       "      <th>higher_yes</th>\n",
       "      <th>internet_yes</th>\n",
       "      <th>romantic_yes</th>\n",
       "    </tr>\n",
       "  </thead>\n",
       "  <tbody>\n",
       "    <tr>\n",
       "      <th>0</th>\n",
       "      <td>NaN</td>\n",
       "      <td>4.0</td>\n",
       "      <td>4.0</td>\n",
       "      <td>2.0</td>\n",
       "      <td>2.0</td>\n",
       "      <td>0.0</td>\n",
       "      <td>4.0</td>\n",
       "      <td>3.0</td>\n",
       "      <td>4.0</td>\n",
       "      <td>1.0</td>\n",
       "      <td>...</td>\n",
       "      <td>1</td>\n",
       "      <td>0</td>\n",
       "      <td>1</td>\n",
       "      <td>0</td>\n",
       "      <td>0</td>\n",
       "      <td>0</td>\n",
       "      <td>1</td>\n",
       "      <td>1</td>\n",
       "      <td>0</td>\n",
       "      <td>0</td>\n",
       "    </tr>\n",
       "    <tr>\n",
       "      <th>1</th>\n",
       "      <td>17.0</td>\n",
       "      <td>1.0</td>\n",
       "      <td>1.0</td>\n",
       "      <td>1.0</td>\n",
       "      <td>2.0</td>\n",
       "      <td>0.0</td>\n",
       "      <td>5.0</td>\n",
       "      <td>3.0</td>\n",
       "      <td>3.0</td>\n",
       "      <td>1.0</td>\n",
       "      <td>...</td>\n",
       "      <td>0</td>\n",
       "      <td>0</td>\n",
       "      <td>0</td>\n",
       "      <td>1</td>\n",
       "      <td>0</td>\n",
       "      <td>0</td>\n",
       "      <td>0</td>\n",
       "      <td>1</td>\n",
       "      <td>1</td>\n",
       "      <td>0</td>\n",
       "    </tr>\n",
       "    <tr>\n",
       "      <th>2</th>\n",
       "      <td>15.0</td>\n",
       "      <td>1.0</td>\n",
       "      <td>1.0</td>\n",
       "      <td>1.0</td>\n",
       "      <td>2.0</td>\n",
       "      <td>3.0</td>\n",
       "      <td>4.0</td>\n",
       "      <td>3.0</td>\n",
       "      <td>2.0</td>\n",
       "      <td>2.0</td>\n",
       "      <td>...</td>\n",
       "      <td>1</td>\n",
       "      <td>0</td>\n",
       "      <td>1</td>\n",
       "      <td>0</td>\n",
       "      <td>1</td>\n",
       "      <td>0</td>\n",
       "      <td>1</td>\n",
       "      <td>1</td>\n",
       "      <td>1</td>\n",
       "      <td>0</td>\n",
       "    </tr>\n",
       "    <tr>\n",
       "      <th>3</th>\n",
       "      <td>15.0</td>\n",
       "      <td>4.0</td>\n",
       "      <td>2.0</td>\n",
       "      <td>1.0</td>\n",
       "      <td>3.0</td>\n",
       "      <td>0.0</td>\n",
       "      <td>3.0</td>\n",
       "      <td>2.0</td>\n",
       "      <td>2.0</td>\n",
       "      <td>1.0</td>\n",
       "      <td>...</td>\n",
       "      <td>1</td>\n",
       "      <td>0</td>\n",
       "      <td>0</td>\n",
       "      <td>1</td>\n",
       "      <td>1</td>\n",
       "      <td>1</td>\n",
       "      <td>1</td>\n",
       "      <td>1</td>\n",
       "      <td>1</td>\n",
       "      <td>1</td>\n",
       "    </tr>\n",
       "    <tr>\n",
       "      <th>4</th>\n",
       "      <td>NaN</td>\n",
       "      <td>3.0</td>\n",
       "      <td>3.0</td>\n",
       "      <td>1.0</td>\n",
       "      <td>2.0</td>\n",
       "      <td>0.0</td>\n",
       "      <td>4.0</td>\n",
       "      <td>3.0</td>\n",
       "      <td>2.0</td>\n",
       "      <td>1.0</td>\n",
       "      <td>...</td>\n",
       "      <td>0</td>\n",
       "      <td>0</td>\n",
       "      <td>0</td>\n",
       "      <td>1</td>\n",
       "      <td>1</td>\n",
       "      <td>0</td>\n",
       "      <td>1</td>\n",
       "      <td>1</td>\n",
       "      <td>0</td>\n",
       "      <td>0</td>\n",
       "    </tr>\n",
       "  </tbody>\n",
       "</table>\n",
       "<p>5 rows × 42 columns</p>\n",
       "</div>"
      ],
      "text/plain": [
       "    age  Medu  Fedu  traveltime  studytime  failures  famrel  freetime  goout  \\\n",
       "0   NaN   4.0   4.0         2.0        2.0       0.0     4.0       3.0    4.0   \n",
       "1  17.0   1.0   1.0         1.0        2.0       0.0     5.0       3.0    3.0   \n",
       "2  15.0   1.0   1.0         1.0        2.0       3.0     4.0       3.0    2.0   \n",
       "3  15.0   4.0   2.0         1.0        3.0       0.0     3.0       2.0    2.0   \n",
       "4   NaN   3.0   3.0         1.0        2.0       0.0     4.0       3.0    2.0   \n",
       "\n",
       "   Dalc  ...  guardian_mother  guardian_other  schoolsup_yes  famsup_yes  \\\n",
       "0   1.0  ...                1               0              1           0   \n",
       "1   1.0  ...                0               0              0           1   \n",
       "2   2.0  ...                1               0              1           0   \n",
       "3   1.0  ...                1               0              0           1   \n",
       "4   1.0  ...                0               0              0           1   \n",
       "\n",
       "   paid_yes  activities_yes  nursery_yes  higher_yes  internet_yes  \\\n",
       "0         0               0            1           1             0   \n",
       "1         0               0            0           1             1   \n",
       "2         1               0            1           1             1   \n",
       "3         1               1            1           1             1   \n",
       "4         1               0            1           1             0   \n",
       "\n",
       "   romantic_yes  \n",
       "0             0  \n",
       "1             0  \n",
       "2             0  \n",
       "3             1  \n",
       "4             0  \n",
       "\n",
       "[5 rows x 42 columns]"
      ]
     },
     "execution_count": 7,
     "metadata": {},
     "output_type": "execute_result"
    }
   ],
   "source": [
    "df.head()"
   ]
  },
  {
   "cell_type": "markdown",
   "id": "d7ff36d4",
   "metadata": {},
   "source": [
    "### Inspección de datos perdidos"
   ]
  },
  {
   "cell_type": "code",
   "execution_count": 8,
   "id": "9eaea414",
   "metadata": {},
   "outputs": [
    {
     "data": {
      "image/png": "[encoded data removed]",
      "text/plain": [
       "<Figure size 576x396 with 1 Axes>"
      ]
     },
     "metadata": {},
     "output_type": "display_data"
    }
   ],
   "source": [
    "pyfunc.plot_nas(df)"
   ]
  },
  {
   "cell_type": "code",
   "execution_count": 9,
   "id": "cda7cb4c",
   "metadata": {
    "scrolled": true
   },
   "outputs": [
    {
     "data": {
      "image/png": "[encoded data removed]",
      "text/plain": [
       "<Figure size 576x396 with 1 Axes>"
      ]
     },
     "metadata": {},
     "output_type": "display_data"
    }
   ],
   "source": [
    "sns.heatmap(df.isnull().transpose(), cbar=False, cbar_kws={'label': 'Missing Data'});"
   ]
  },
  {
   "cell_type": "code",
   "execution_count": 10,
   "id": "8effe9cc",
   "metadata": {
    "scrolled": true
   },
   "outputs": [
    {
     "data": {
      "text/plain": [
       "56"
      ]
     },
     "execution_count": 10,
     "metadata": {},
     "output_type": "execute_result"
    }
   ],
   "source": [
    "sum([True for idx,row in df.iterrows() if any(row.isnull())])"
   ]
  },
  {
   "cell_type": "code",
   "execution_count": 11,
   "id": "9cdddb39",
   "metadata": {},
   "outputs": [
    {
     "data": {
      "text/plain": [
       "0.14177215189873418"
      ]
     },
     "execution_count": 11,
     "metadata": {},
     "output_type": "execute_result"
    }
   ],
   "source": [
    "sum([True for idx,row in df.iterrows() if any(row.isnull())]) / len(df)"
   ]
  },
  {
   "cell_type": "code",
   "execution_count": 12,
   "id": "9d2ffe00",
   "metadata": {},
   "outputs": [],
   "source": [
    "df.dropna(inplace=True)"
   ]
  },
  {
   "cell_type": "markdown",
   "id": "bb50b6a7",
   "metadata": {},
   "source": [
    "### Inspección del vector objetivo"
   ]
  },
  {
   "cell_type": "code",
   "execution_count": 13,
   "id": "58a4ad06",
   "metadata": {
    "scrolled": false
   },
   "outputs": [
    {
     "data": {
      "image/png": "[encoded data removed]",
      "text/plain": [
       "<Figure size 576x396 with 1 Axes>"
      ]
     },
     "metadata": {},
     "output_type": "display_data"
    }
   ],
   "source": [
    "sns.boxplot(data=df[['G1', 'G2', 'G3']], palette=\"YlOrRd\");"
   ]
  },
  {
   "cell_type": "markdown",
   "id": "e480ebbe",
   "metadata": {},
   "source": [
    "Outliers en G2 pueden explicar alumnos que no rindieron exámenes o desertaron del proceso escolar"
   ]
  },
  {
   "cell_type": "code",
   "execution_count": 14,
   "id": "80f1dad1",
   "metadata": {
    "scrolled": true
   },
   "outputs": [
    {
     "data": {
      "image/png": "[encoded data removed]",
      "text/plain": [
       "<Figure size 576x396 with 1 Axes>"
      ]
     },
     "metadata": {},
     "output_type": "display_data"
    }
   ],
   "source": [
    "sns.histplot(data=df[['G1','G2']], stat='density', common_norm=False);"
   ]
  },
  {
   "cell_type": "markdown",
   "id": "887508f7",
   "metadata": {},
   "source": [
    "Es importante mencionar los datos de G2 con notas cercanas a 0, lo que lleva a la conclusión de que hay deserción entre los estudiantes."
   ]
  },
  {
   "cell_type": "code",
   "execution_count": 15,
   "id": "ee74ed0c",
   "metadata": {},
   "outputs": [
    {
     "data": {
      "image/png": "[encoded data removed]",
      "text/plain": [
       "<Figure size 576x396 with 1 Axes>"
      ]
     },
     "metadata": {},
     "output_type": "display_data"
    }
   ],
   "source": [
    "sns.histplot(data=df[['G2','G3']], stat='density', common_norm=False);"
   ]
  },
  {
   "cell_type": "code",
   "execution_count": 16,
   "id": "d8b5c26d",
   "metadata": {},
   "outputs": [
    {
     "data": {
      "image/png": "[encoded data removed]",
      "text/plain": [
       "<Figure size 468x360 with 1 Axes>"
      ]
     },
     "metadata": {},
     "output_type": "display_data"
    }
   ],
   "source": [
    "sns.lmplot(data=df, x=\"G1\", y=\"G2\", aspect=1.3, scatter_kws={\"s\": 20, 'alpha':.6});"
   ]
  },
  {
   "cell_type": "markdown",
   "id": "61ff49c1",
   "metadata": {},
   "source": [
    "Se puede observar que hay estudiantes que rindieron exámenes durante el primer semestre, pero durante el segundo, obtuvieron nota 0. Por otra parte, se puede ver una tendencia hacia que los estudiantes tengan promedios cercanos o similares a los que obtuvieron en el primer período."
   ]
  },
  {
   "cell_type": "markdown",
   "id": "c47df53c",
   "metadata": {},
   "source": [
    "### Inspección visual de variables"
   ]
  },
  {
   "cell_type": "code",
   "execution_count": 17,
   "id": "116700e9",
   "metadata": {
    "scrolled": true
   },
   "outputs": [
    {
     "data": {
      "image/png": "[encoded data removed]",
      "text/plain": [
       "<Figure size 576x396 with 1 Axes>"
      ]
     },
     "metadata": {},
     "output_type": "display_data"
    }
   ],
   "source": [
    "sns.boxplot(data=df, x=\"studytime\", y=\"G3\", hue=\"school_MS\");"
   ]
  },
  {
   "cell_type": "markdown",
   "id": "ddeadc08",
   "metadata": {},
   "source": [
    "A mayor tiempo de estudio, los estudiantes del colegio Mousinho da Silveira tienden a incrementar su promedio final, mientras que los estudiantes del colegio Gabriel Pereira parecen no ver mucha diferencia al aumentar el tiempo de estudio."
   ]
  },
  {
   "cell_type": "code",
   "execution_count": 18,
   "id": "78797a3a",
   "metadata": {
    "scrolled": false
   },
   "outputs": [
    {
     "data": {
      "image/png": "[encoded data removed]",
      "text/plain": [
       "<Figure size 576x396 with 1 Axes>"
      ]
     },
     "metadata": {},
     "output_type": "display_data"
    }
   ],
   "source": [
    "sns.histplot(data=df, x='G3', hue='school_MS', stat='density', common_norm=False);"
   ]
  },
  {
   "cell_type": "code",
   "execution_count": 19,
   "id": "8893de28",
   "metadata": {
    "scrolled": true
   },
   "outputs": [
    {
     "data": {
      "image/png": "[encoded data removed]",
      "text/plain": [
       "<Figure size 576x396 with 1 Axes>"
      ]
     },
     "metadata": {},
     "output_type": "display_data"
    }
   ],
   "source": [
    "sns.histplot(data=df, x='G3', hue=\"internet_yes\", stat='density', common_norm=False);"
   ]
  },
  {
   "cell_type": "code",
   "execution_count": 20,
   "id": "f48ef00e",
   "metadata": {
    "scrolled": true
   },
   "outputs": [
    {
     "data": {
      "image/png": "[encoded data removed]",
      "text/plain": [
       "<Figure size 576x396 with 1 Axes>"
      ]
     },
     "metadata": {},
     "output_type": "display_data"
    }
   ],
   "source": [
    "sns.histplot(data=df, x='age', stat='density', common_norm=False);"
   ]
  },
  {
   "cell_type": "code",
   "execution_count": 21,
   "id": "87b14915",
   "metadata": {
    "scrolled": true
   },
   "outputs": [
    {
     "data": {
      "image/png": "[encoded data removed]",
      "text/plain": [
       "<Figure size 576x396 with 1 Axes>"
      ]
     },
     "metadata": {},
     "output_type": "display_data"
    }
   ],
   "source": [
    "sns.violinplot(data=df, x=\"age\", y=\"studytime\");"
   ]
  },
  {
   "cell_type": "markdown",
   "id": "e7c9da47",
   "metadata": {},
   "source": [
    "Dado el gráfico de distribución de edades, se justifica en este gráfico de violin que en las edades de 20 a 22 se pierde una continuidad en la distribución del tiempo de estudio en los estudiantes. El modelo podría aprender mejor a predecir o describir el vector objetivo para las edades más jóvenes."
   ]
  },
  {
   "cell_type": "code",
   "execution_count": 22,
   "id": "c170f4e9",
   "metadata": {},
   "outputs": [
    {
     "data": {
      "image/png": "[encoded data removed]",
      "text/plain": [
       "<Figure size 576x396 with 1 Axes>"
      ]
     },
     "metadata": {},
     "output_type": "display_data"
    }
   ],
   "source": [
    "swarmp_plot = sns.swarmplot(data=df, y=\"G3\", x=\"guardian_mother\", hue='famsup_yes' ,alpha=.9, palette=\"deep\", dodge=True);\n",
    "plt.legend(title='Apoyo Familiar', labels=['No', 'Si']);\n",
    "swarmp_plot.set(xlabel =\"Apoderado: Madre\", ylabel = \"Promedio Final\", title ='Grafico de Gusanos');"
   ]
  },
  {
   "cell_type": "code",
   "execution_count": 23,
   "id": "73c31243",
   "metadata": {
    "scrolled": true
   },
   "outputs": [
    {
     "data": {
      "image/png": "[encoded data removed]",
      "text/plain": [
       "<Figure size 720x360 with 2 Axes>"
      ]
     },
     "metadata": {},
     "output_type": "display_data"
    }
   ],
   "source": [
    "pyfunc.custom_relplot(df, 'absences', 'G3', 'address_U')"
   ]
  },
  {
   "cell_type": "markdown",
   "id": "5852251c",
   "metadata": {},
   "source": [
    "La media del promedio final es ligeramente superior en zonas urbanas. Por otra parte, los niños de origen rural con altos promedios parecen ausentarse por encima de la media, mientras que en zonas urbanas se concentran más por debajo de la media de ausencias. También es importante mencionar que los mayores valores de ausencias tienden a concentrarse en la media del promedio."
   ]
  },
  {
   "cell_type": "code",
   "execution_count": 24,
   "id": "31acea73",
   "metadata": {
    "scrolled": false
   },
   "outputs": [
    {
     "data": {
      "image/png": "[encoded data removed]",
      "text/plain": [
       "<Figure size 576x396 with 1 Axes>"
      ]
     },
     "metadata": {},
     "output_type": "display_data"
    }
   ],
   "source": [
    "vio_school_address = sns.violinplot(data=df, x=\"school_MS\", y=\"address_U\");\n",
    "vio_school_address.set(xlabel =\"Colegio Mousinho da Silveira\", ylabel = \"Casa en Zona Urbana del Estudiante\", \n",
    "                       title ='Grafico de Violin');"
   ]
  },
  {
   "cell_type": "markdown",
   "id": "6a5343ad",
   "metadata": {},
   "source": [
    "El conjunto de datos contiene una distribución equitativa entre los estudiantes de la escuela Mousinho da Silveira que son de origen urbano o rural. En cambio, la gran mayoría de los estudiantes del colegio Gabriel Pereira se ubican en zonas urbanas."
   ]
  },
  {
   "cell_type": "code",
   "execution_count": 25,
   "id": "214d9495",
   "metadata": {
    "scrolled": true
   },
   "outputs": [
    {
     "data": {
      "image/png": "[encoded data removed]",
      "text/plain": [
       "<Figure size 576x396 with 1 Axes>"
      ]
     },
     "metadata": {},
     "output_type": "display_data"
    }
   ],
   "source": [
    "sns.boxplot(data=df, x=\"traveltime\", y=\"absences\", hue=\"address_U\");"
   ]
  },
  {
   "cell_type": "markdown",
   "id": "fca98290",
   "metadata": {},
   "source": [
    "Se puede observar que los estudiantes de zonas urbanas tienen más valores atípicos que los de zonas rurales."
   ]
  },
  {
   "cell_type": "code",
   "execution_count": 26,
   "id": "cab259e2",
   "metadata": {},
   "outputs": [
    {
     "data": {
      "image/png": "[encoded data removed]",
      "text/plain": [
       "<Figure size 576x396 with 1 Axes>"
      ]
     },
     "metadata": {},
     "output_type": "display_data"
    }
   ],
   "source": [
    "sns.boxplot(data=df, x=\"traveltime\", y=\"absences\", hue=\"school_MS\");"
   ]
  },
  {
   "cell_type": "code",
   "execution_count": 27,
   "id": "0c78a7af",
   "metadata": {
    "scrolled": false
   },
   "outputs": [
    {
     "data": {
      "image/png": "[encoded data removed]",
      "text/plain": [
       "<Figure size 576x396 with 1 Axes>"
      ]
     },
     "metadata": {},
     "output_type": "display_data"
    }
   ],
   "source": [
    "sns.boxplot(data=df, x=\"studytime\", y=\"absences\", hue=\"school_MS\");"
   ]
  },
  {
   "cell_type": "markdown",
   "id": "6194f720",
   "metadata": {},
   "source": [
    "# Extracción de factores latentes"
   ]
  },
  {
   "cell_type": "code",
   "execution_count": 28,
   "id": "ffbaa387",
   "metadata": {},
   "outputs": [],
   "source": [
    "import factor_analyzer as fact"
   ]
  },
  {
   "cell_type": "code",
   "execution_count": 29,
   "id": "d210c027",
   "metadata": {
    "scrolled": true
   },
   "outputs": [],
   "source": [
    "df_f_h = df[['famrel', 'freetime', 'goout', 'Dalc', 'Walc', 'health']]"
   ]
  },
  {
   "cell_type": "code",
   "execution_count": 30,
   "id": "831b697b",
   "metadata": {},
   "outputs": [
    {
     "data": {
      "text/plain": [
       "(298.3976585443869, 5.7555142306803155e-55)"
      ]
     },
     "execution_count": 30,
     "metadata": {},
     "output_type": "execute_result"
    }
   ],
   "source": [
    "fact.calculate_bartlett_sphericity(df_f_h)"
   ]
  },
  {
   "cell_type": "markdown",
   "id": "10d973b7",
   "metadata": {},
   "source": [
    "Dado que en este caso tenemos un p-valor de 0, el test de Barlett sugiere que la hipótesis nula ha sido rechazada con un alto grado de confianza. Esto significa que es muy probable que exista una fuerte relación entre las variables en el conjunto de datos dado."
   ]
  },
  {
   "cell_type": "code",
   "execution_count": 31,
   "id": "21a5c449",
   "metadata": {
    "scrolled": true
   },
   "outputs": [
    {
     "data": {
      "text/plain": [
       "array([0.50005134, 0.61163933, 0.6328481 , 0.59114607, 0.56116716,\n",
       "       0.58045622])"
      ]
     },
     "execution_count": 31,
     "metadata": {},
     "output_type": "execute_result"
    }
   ],
   "source": [
    "fact.calculate_kmo(df_f_h)[0]"
   ]
  },
  {
   "cell_type": "markdown",
   "id": "68bb2c7b",
   "metadata": {},
   "source": [
    "Observamos que no hay valores KMO cercanos a 0, lo cual puede indicar que los datos entregados pueden ser adecuados para el análisis factorial."
   ]
  },
  {
   "cell_type": "code",
   "execution_count": 32,
   "id": "79c546b4",
   "metadata": {},
   "outputs": [],
   "source": [
    "#Generamos una nueva instancia en el objeto factorize\n",
    "factorize = fact.FactorAnalyzer(n_factors=2, rotation='varimax')\n",
    "# Implementamos el análisis de factores\n",
    "factorize.fit(df_f_h)\n",
    "# extraemos los eigenvalues\n",
    "factor_screeplot = factorize.get_eigenvalues()[0]"
   ]
  },
  {
   "cell_type": "code",
   "execution_count": 33,
   "id": "a06483ed",
   "metadata": {
    "scrolled": false
   },
   "outputs": [
    {
     "data": {
      "image/png": "[encoded data removed]",
      "text/plain": [
       "<Figure size 576x396 with 1 Axes>"
      ]
     },
     "metadata": {},
     "output_type": "display_data"
    }
   ],
   "source": [
    "pyfunc.scree_plot(factor_screeplot) #Podemos ver, según nuestro gráfico, que son extraíbles 2 factores por estar sobre 1."
   ]
  },
  {
   "cell_type": "code",
   "execution_count": 34,
   "id": "f0a79471",
   "metadata": {
    "scrolled": true
   },
   "outputs": [],
   "source": [
    "loadings_df = pd.DataFrame(factorize.loadings_, columns=['Factor1', 'Factor2'], index=df_f_h.columns)"
   ]
  },
  {
   "cell_type": "code",
   "execution_count": 35,
   "id": "2101c857",
   "metadata": {
    "scrolled": false
   },
   "outputs": [
    {
     "data": {
      "image/png": "[encoded data removed]",
      "text/plain": [
       "<Figure size 720x432 with 2 Axes>"
      ]
     },
     "metadata": {},
     "output_type": "display_data"
    }
   ],
   "source": [
    "plt.figure(figsize=(10,6))\n",
    "factor_loadings = loadings_df.applymap(lambda x: np.where(x < .4, 0, round(x,2)))\n",
    "sns.heatmap(factor_loadings, cmap ='Reds', annot= True);"
   ]
  },
  {
   "cell_type": "markdown",
   "id": "aff3aaac",
   "metadata": {},
   "source": [
    "Podemos observar que el primer factor agrupa a las variables Walc, Dalc y goout, que hacen referencia a estudiantes que beben en los fines de semana y días de semana y que salen con frecuencia. Por lo tanto, el factor 1 agruparía a estos individuos que tienen estas características similares en común.\n",
    "\n",
    "Por otra parte, el factor 2 solo considera una variable con correlación y no tendría mucho sentido utilizarla ya que no se cumple el objetivo de reducir la dimensionalidad."
   ]
  },
  {
   "cell_type": "code",
   "execution_count": 36,
   "id": "c1dc1e3d",
   "metadata": {
    "scrolled": false
   },
   "outputs": [
    {
     "data": {
      "image/png": "[encoded data removed]",
      "text/plain": [
       "<Figure size 720x360 with 1 Axes>"
      ]
     },
     "metadata": {},
     "output_type": "display_data"
    }
   ],
   "source": [
    "pyfunc.plot_double_loadings(loadings_df)"
   ]
  },
  {
   "cell_type": "code",
   "execution_count": 37,
   "id": "5759019e",
   "metadata": {
    "scrolled": false
   },
   "outputs": [],
   "source": [
    "scores = factorize.transform(df_f_h)\n",
    "scores_df = pd.DataFrame(scores, columns=['factor_1', 'factor_2'])"
   ]
  },
  {
   "cell_type": "code",
   "execution_count": 38,
   "id": "e2a1151c",
   "metadata": {},
   "outputs": [],
   "source": [
    "df.reset_index(drop=True, inplace=True)\n",
    "df['drinkers_gout'] = scores_df['factor_1'] #se agregó los scores del factor 1 al dataframe."
   ]
  },
  {
   "cell_type": "markdown",
   "id": "777ec85c",
   "metadata": {},
   "source": [
    "# Modelación descriptiva"
   ]
  },
  {
   "cell_type": "markdown",
   "id": "810f2246",
   "metadata": {},
   "source": [
    "Se creó la función *get_best_model_OLS* para iterar sobre el modelo hasta encontrar uno con todas las variables independientes por debajo del p-valor indicado, en este caso de 0.05. Esta función también reporta algunas métricas relevantes para medir la calidad predictiva del modelo.\n",
    "\n",
    "Parámetros de la función: <br>\n",
    "dataframe, variable dependiente, array con las variables a excluir del modelo, p-valor exigido."
   ]
  },
  {
   "cell_type": "markdown",
   "id": "23a70241",
   "metadata": {},
   "source": [
    "### Primera variable para modelo descriptivo: G1"
   ]
  },
  {
   "cell_type": "code",
   "execution_count": 39,
   "id": "40b5d5c1",
   "metadata": {
    "scrolled": false
   },
   "outputs": [
    {
     "name": "stdout",
     "output_type": "stream",
     "text": [
      "-Modelo 1- Adj. R-Squared: 0.252026, BIC: 1865.48, AIC: 1712.44, F-Stadistics: 3.92\n",
      "-Modelo 1- Adj. R-Squared: 0.214239, BIC: 1739.82, AIC: 1701.56, F-Stadistics: 11.24, Qty-Deleted-Vars: 31\n",
      "-Modelo 1- Adj. R-Squared: 0.208603, BIC: 1727.84, AIC: 1701.06, F-Stadistics: 15.85, Qty-Deleted-Vars: 3\n"
     ]
    },
    {
     "data": {
      "text/html": [
       "<table class=\"simpletable\">\n",
       "<caption>OLS Regression Results</caption>\n",
       "<tr>\n",
       "  <th>Dep. Variable:</th>           <td>G1</td>        <th>  R-squared:         </th> <td>   0.223</td>\n",
       "</tr>\n",
       "<tr>\n",
       "  <th>Model:</th>                   <td>OLS</td>       <th>  Adj. R-squared:    </th> <td>   0.209</td>\n",
       "</tr>\n",
       "<tr>\n",
       "  <th>Method:</th>             <td>Least Squares</td>  <th>  F-statistic:       </th> <td>   15.85</td>\n",
       "</tr>\n",
       "<tr>\n",
       "  <th>Date:</th>             <td>Sat, 24 Dec 2022</td> <th>  Prob (F-statistic):</th> <td>5.04e-16</td>\n",
       "</tr>\n",
       "<tr>\n",
       "  <th>Time:</th>                 <td>19:30:59</td>     <th>  Log-Likelihood:    </th> <td> -843.53</td>\n",
       "</tr>\n",
       "<tr>\n",
       "  <th>No. Observations:</th>      <td>   339</td>      <th>  AIC:               </th> <td>   1701.</td>\n",
       "</tr>\n",
       "<tr>\n",
       "  <th>Df Residuals:</th>          <td>   332</td>      <th>  BIC:               </th> <td>   1728.</td>\n",
       "</tr>\n",
       "<tr>\n",
       "  <th>Df Model:</th>              <td>     6</td>      <th>                     </th>     <td> </td>   \n",
       "</tr>\n",
       "<tr>\n",
       "  <th>Covariance Type:</th>      <td>nonrobust</td>    <th>                     </th>     <td> </td>   \n",
       "</tr>\n",
       "</table>\n",
       "<table class=\"simpletable\">\n",
       "<tr>\n",
       "        <td></td>           <th>coef</th>     <th>std err</th>      <th>t</th>      <th>P>|t|</th>  <th>[0.025</th>    <th>0.975]</th>  \n",
       "</tr>\n",
       "<tr>\n",
       "  <th>Intercept</th>     <td>   11.1354</td> <td>    0.865</td> <td>   12.877</td> <td> 0.000</td> <td>    9.434</td> <td>   12.837</td>\n",
       "</tr>\n",
       "<tr>\n",
       "  <th>studytime</th>     <td>    0.4662</td> <td>    0.198</td> <td>    2.352</td> <td> 0.019</td> <td>    0.076</td> <td>    0.856</td>\n",
       "</tr>\n",
       "<tr>\n",
       "  <th>failures</th>      <td>   -1.3114</td> <td>    0.235</td> <td>   -5.569</td> <td> 0.000</td> <td>   -1.775</td> <td>   -0.848</td>\n",
       "</tr>\n",
       "<tr>\n",
       "  <th>goout</th>         <td>   -0.4436</td> <td>    0.147</td> <td>   -3.013</td> <td> 0.003</td> <td>   -0.733</td> <td>   -0.154</td>\n",
       "</tr>\n",
       "<tr>\n",
       "  <th>schoolsup_yes</th> <td>   -1.9389</td> <td>    0.478</td> <td>   -4.057</td> <td> 0.000</td> <td>   -2.879</td> <td>   -0.999</td>\n",
       "</tr>\n",
       "<tr>\n",
       "  <th>famsup_yes</th>    <td>   -0.8817</td> <td>    0.336</td> <td>   -2.625</td> <td> 0.009</td> <td>   -1.542</td> <td>   -0.221</td>\n",
       "</tr>\n",
       "<tr>\n",
       "  <th>higher_yes</th>    <td>    1.5078</td> <td>    0.664</td> <td>    2.270</td> <td> 0.024</td> <td>    0.201</td> <td>    2.814</td>\n",
       "</tr>\n",
       "</table>\n",
       "<table class=\"simpletable\">\n",
       "<tr>\n",
       "  <th>Omnibus:</th>       <td> 8.464</td> <th>  Durbin-Watson:     </th> <td>   1.969</td>\n",
       "</tr>\n",
       "<tr>\n",
       "  <th>Prob(Omnibus):</th> <td> 0.015</td> <th>  Jarque-Bera (JB):  </th> <td>   5.545</td>\n",
       "</tr>\n",
       "<tr>\n",
       "  <th>Skew:</th>          <td> 0.160</td> <th>  Prob(JB):          </th> <td>  0.0625</td>\n",
       "</tr>\n",
       "<tr>\n",
       "  <th>Kurtosis:</th>      <td> 2.462</td> <th>  Cond. No.          </th> <td>    25.9</td>\n",
       "</tr>\n",
       "</table><br/><br/>Notes:<br/>[1] Standard Errors assume that the covariance matrix of the errors is correctly specified."
      ],
      "text/plain": [
       "<class 'statsmodels.iolib.summary.Summary'>\n",
       "\"\"\"\n",
       "                            OLS Regression Results                            \n",
       "==============================================================================\n",
       "Dep. Variable:                     G1   R-squared:                       0.223\n",
       "Model:                            OLS   Adj. R-squared:                  0.209\n",
       "Method:                 Least Squares   F-statistic:                     15.85\n",
       "Date:                Sat, 24 Dec 2022   Prob (F-statistic):           5.04e-16\n",
       "Time:                        19:30:59   Log-Likelihood:                -843.53\n",
       "No. Observations:                 339   AIC:                             1701.\n",
       "Df Residuals:                     332   BIC:                             1728.\n",
       "Df Model:                           6                                         \n",
       "Covariance Type:            nonrobust                                         \n",
       "=================================================================================\n",
       "                    coef    std err          t      P>|t|      [0.025      0.975]\n",
       "---------------------------------------------------------------------------------\n",
       "Intercept        11.1354      0.865     12.877      0.000       9.434      12.837\n",
       "studytime         0.4662      0.198      2.352      0.019       0.076       0.856\n",
       "failures         -1.3114      0.235     -5.569      0.000      -1.775      -0.848\n",
       "goout            -0.4436      0.147     -3.013      0.003      -0.733      -0.154\n",
       "schoolsup_yes    -1.9389      0.478     -4.057      0.000      -2.879      -0.999\n",
       "famsup_yes       -0.8817      0.336     -2.625      0.009      -1.542      -0.221\n",
       "higher_yes        1.5078      0.664      2.270      0.024       0.201       2.814\n",
       "==============================================================================\n",
       "Omnibus:                        8.464   Durbin-Watson:                   1.969\n",
       "Prob(Omnibus):                  0.015   Jarque-Bera (JB):                5.545\n",
       "Skew:                           0.160   Prob(JB):                       0.0625\n",
       "Kurtosis:                       2.462   Cond. No.                         25.9\n",
       "==============================================================================\n",
       "\n",
       "Notes:\n",
       "[1] Standard Errors assume that the covariance matrix of the errors is correctly specified.\n",
       "\"\"\""
      ]
     },
     "execution_count": 39,
     "metadata": {},
     "output_type": "execute_result"
    }
   ],
   "source": [
    "G1_model = pyfunc.get_best_model_OLS(df, 'G1', ['G1', 'G2', 'G3'], 0.05)\n",
    "G1_model.summary()"
   ]
  },
  {
   "cell_type": "markdown",
   "id": "8a2fe2f6",
   "metadata": {},
   "source": [
    "> Interpretación\n",
    ">>Como se puede ver, quedó un modelo con solo variables con p-valores menores a 0.05 y con t-values relevantes que muestran una fuerte relación entre las variables independientes y la dependiente. Todos estos t-values están alejados del valor 0.\n",
    "\n",
    ">>Por otra parte, durante la iteración se eliminaron variables que tenían t-values que rondaban en 1 o -1 o que contaban con p-valores cercanos a 0.2. Esto baja la calificación de R-squared y Adj. R-squared. Sin embargo, consideramos que un t-value de 1 o -1 es una relación moderada y no relevante, especialmente considerando que contaban con p-valores altos.\n",
    "\n",
    ">> La calidad del modelo se incrementó, como se puede ver reflejado en BIC, AIC y F-estadísticas."
   ]
  },
  {
   "cell_type": "markdown",
   "id": "2f7c1831",
   "metadata": {},
   "source": [
    "### Segunda variable para modelo descriptivo: G2"
   ]
  },
  {
   "cell_type": "code",
   "execution_count": 40,
   "id": "2c700adb",
   "metadata": {},
   "outputs": [
    {
     "name": "stdout",
     "output_type": "stream",
     "text": [
      "-Modelo 1- Adj. R-Squared: 0.752591, BIC: 1585.18, AIC: 1428.31, F-Stadistics: 26.7\n",
      "-Modelo 1- Adj. R-Squared: 0.742082, BIC: 1433.01, AIC: 1410.06, F-Stadistics: 195.5, Qty-Deleted-Vars: 36\n"
     ]
    },
    {
     "data": {
      "text/html": [
       "<table class=\"simpletable\">\n",
       "<caption>OLS Regression Results</caption>\n",
       "<tr>\n",
       "  <th>Dep. Variable:</th>           <td>G2</td>        <th>  R-squared:         </th> <td>   0.746</td>\n",
       "</tr>\n",
       "<tr>\n",
       "  <th>Model:</th>                   <td>OLS</td>       <th>  Adj. R-squared:    </th> <td>   0.742</td>\n",
       "</tr>\n",
       "<tr>\n",
       "  <th>Method:</th>             <td>Least Squares</td>  <th>  F-statistic:       </th> <td>   195.5</td>\n",
       "</tr>\n",
       "<tr>\n",
       "  <th>Date:</th>             <td>Sat, 24 Dec 2022</td> <th>  Prob (F-statistic):</th> <td>9.07e-97</td>\n",
       "</tr>\n",
       "<tr>\n",
       "  <th>Time:</th>                 <td>19:30:59</td>     <th>  Log-Likelihood:    </th> <td> -699.03</td>\n",
       "</tr>\n",
       "<tr>\n",
       "  <th>No. Observations:</th>      <td>   339</td>      <th>  AIC:               </th> <td>   1410.</td>\n",
       "</tr>\n",
       "<tr>\n",
       "  <th>Df Residuals:</th>          <td>   333</td>      <th>  BIC:               </th> <td>   1433.</td>\n",
       "</tr>\n",
       "<tr>\n",
       "  <th>Df Model:</th>              <td>     5</td>      <th>                     </th>     <td> </td>   \n",
       "</tr>\n",
       "<tr>\n",
       "  <th>Covariance Type:</th>      <td>nonrobust</td>    <th>                     </th>     <td> </td>   \n",
       "</tr>\n",
       "</table>\n",
       "<table class=\"simpletable\">\n",
       "<tr>\n",
       "        <td></td>          <th>coef</th>     <th>std err</th>      <th>t</th>      <th>P>|t|</th>  <th>[0.025</th>    <th>0.975]</th>  \n",
       "</tr>\n",
       "<tr>\n",
       "  <th>Intercept</th>    <td>    0.4175</td> <td>    0.474</td> <td>    0.882</td> <td> 0.379</td> <td>   -0.514</td> <td>    1.349</td>\n",
       "</tr>\n",
       "<tr>\n",
       "  <th>traveltime</th>   <td>   -0.3950</td> <td>    0.153</td> <td>   -2.576</td> <td> 0.010</td> <td>   -0.697</td> <td>   -0.093</td>\n",
       "</tr>\n",
       "<tr>\n",
       "  <th>G1</th>           <td>    0.9706</td> <td>    0.032</td> <td>   30.327</td> <td> 0.000</td> <td>    0.908</td> <td>    1.034</td>\n",
       "</tr>\n",
       "<tr>\n",
       "  <th>Mjob_other</th>   <td>    0.4903</td> <td>    0.222</td> <td>    2.210</td> <td> 0.028</td> <td>    0.054</td> <td>    0.927</td>\n",
       "</tr>\n",
       "<tr>\n",
       "  <th>paid_yes</th>     <td>    0.6197</td> <td>    0.212</td> <td>    2.927</td> <td> 0.004</td> <td>    0.203</td> <td>    1.036</td>\n",
       "</tr>\n",
       "<tr>\n",
       "  <th>romantic_yes</th> <td>   -0.7188</td> <td>    0.222</td> <td>   -3.233</td> <td> 0.001</td> <td>   -1.156</td> <td>   -0.282</td>\n",
       "</tr>\n",
       "</table>\n",
       "<table class=\"simpletable\">\n",
       "<tr>\n",
       "  <th>Omnibus:</th>       <td>146.938</td> <th>  Durbin-Watson:     </th> <td>   1.387</td> \n",
       "</tr>\n",
       "<tr>\n",
       "  <th>Prob(Omnibus):</th> <td> 0.000</td>  <th>  Jarque-Bera (JB):  </th> <td> 861.669</td> \n",
       "</tr>\n",
       "<tr>\n",
       "  <th>Skew:</th>          <td>-1.720</td>  <th>  Prob(JB):          </th> <td>7.78e-188</td>\n",
       "</tr>\n",
       "<tr>\n",
       "  <th>Kurtosis:</th>      <td>10.012</td>  <th>  Cond. No.          </th> <td>    54.3</td> \n",
       "</tr>\n",
       "</table><br/><br/>Notes:<br/>[1] Standard Errors assume that the covariance matrix of the errors is correctly specified."
      ],
      "text/plain": [
       "<class 'statsmodels.iolib.summary.Summary'>\n",
       "\"\"\"\n",
       "                            OLS Regression Results                            \n",
       "==============================================================================\n",
       "Dep. Variable:                     G2   R-squared:                       0.746\n",
       "Model:                            OLS   Adj. R-squared:                  0.742\n",
       "Method:                 Least Squares   F-statistic:                     195.5\n",
       "Date:                Sat, 24 Dec 2022   Prob (F-statistic):           9.07e-97\n",
       "Time:                        19:30:59   Log-Likelihood:                -699.03\n",
       "No. Observations:                 339   AIC:                             1410.\n",
       "Df Residuals:                     333   BIC:                             1433.\n",
       "Df Model:                           5                                         \n",
       "Covariance Type:            nonrobust                                         \n",
       "================================================================================\n",
       "                   coef    std err          t      P>|t|      [0.025      0.975]\n",
       "--------------------------------------------------------------------------------\n",
       "Intercept        0.4175      0.474      0.882      0.379      -0.514       1.349\n",
       "traveltime      -0.3950      0.153     -2.576      0.010      -0.697      -0.093\n",
       "G1               0.9706      0.032     30.327      0.000       0.908       1.034\n",
       "Mjob_other       0.4903      0.222      2.210      0.028       0.054       0.927\n",
       "paid_yes         0.6197      0.212      2.927      0.004       0.203       1.036\n",
       "romantic_yes    -0.7188      0.222     -3.233      0.001      -1.156      -0.282\n",
       "==============================================================================\n",
       "Omnibus:                      146.938   Durbin-Watson:                   1.387\n",
       "Prob(Omnibus):                  0.000   Jarque-Bera (JB):              861.669\n",
       "Skew:                          -1.720   Prob(JB):                    7.78e-188\n",
       "Kurtosis:                      10.012   Cond. No.                         54.3\n",
       "==============================================================================\n",
       "\n",
       "Notes:\n",
       "[1] Standard Errors assume that the covariance matrix of the errors is correctly specified.\n",
       "\"\"\""
      ]
     },
     "execution_count": 40,
     "metadata": {},
     "output_type": "execute_result"
    }
   ],
   "source": [
    "G2_model = pyfunc.get_best_model_OLS(df, 'G2', ['G2', 'G3'], 0.05)\n",
    "G2_model.summary()"
   ]
  },
  {
   "cell_type": "markdown",
   "id": "be292a12",
   "metadata": {},
   "source": [
    "### Tercera variable para modelo descriptivo: G3"
   ]
  },
  {
   "cell_type": "code",
   "execution_count": 41,
   "id": "83b1b03a",
   "metadata": {
    "scrolled": false
   },
   "outputs": [
    {
     "name": "stdout",
     "output_type": "stream",
     "text": [
      "-Modelo 1- Adj. R-Squared: 0.835219, BIC: 1579.46, AIC: 1418.77, F-Stadistics: 42.79\n",
      "-Modelo 1- Adj. R-Squared: 0.83441, BIC: 1405.36, AIC: 1386.23, F-Stadistics: 426.8, Qty-Deleted-Vars: 38\n"
     ]
    },
    {
     "data": {
      "text/html": [
       "<table class=\"simpletable\">\n",
       "<caption>OLS Regression Results</caption>\n",
       "<tr>\n",
       "  <th>Dep. Variable:</th>           <td>G3</td>        <th>  R-squared:         </th> <td>   0.836</td> \n",
       "</tr>\n",
       "<tr>\n",
       "  <th>Model:</th>                   <td>OLS</td>       <th>  Adj. R-squared:    </th> <td>   0.834</td> \n",
       "</tr>\n",
       "<tr>\n",
       "  <th>Method:</th>             <td>Least Squares</td>  <th>  F-statistic:       </th> <td>   426.8</td> \n",
       "</tr>\n",
       "<tr>\n",
       "  <th>Date:</th>             <td>Sat, 24 Dec 2022</td> <th>  Prob (F-statistic):</th> <td>7.30e-130</td>\n",
       "</tr>\n",
       "<tr>\n",
       "  <th>Time:</th>                 <td>19:30:59</td>     <th>  Log-Likelihood:    </th> <td> -688.12</td> \n",
       "</tr>\n",
       "<tr>\n",
       "  <th>No. Observations:</th>      <td>   339</td>      <th>  AIC:               </th> <td>   1386.</td> \n",
       "</tr>\n",
       "<tr>\n",
       "  <th>Df Residuals:</th>          <td>   334</td>      <th>  BIC:               </th> <td>   1405.</td> \n",
       "</tr>\n",
       "<tr>\n",
       "  <th>Df Model:</th>              <td>     4</td>      <th>                     </th>     <td> </td>    \n",
       "</tr>\n",
       "<tr>\n",
       "  <th>Covariance Type:</th>      <td>nonrobust</td>    <th>                     </th>     <td> </td>    \n",
       "</tr>\n",
       "</table>\n",
       "<table class=\"simpletable\">\n",
       "<tr>\n",
       "      <td></td>         <th>coef</th>     <th>std err</th>      <th>t</th>      <th>P>|t|</th>  <th>[0.025</th>    <th>0.975]</th>  \n",
       "</tr>\n",
       "<tr>\n",
       "  <th>Intercept</th> <td>   -3.1850</td> <td>    0.569</td> <td>   -5.596</td> <td> 0.000</td> <td>   -4.305</td> <td>   -2.065</td>\n",
       "</tr>\n",
       "<tr>\n",
       "  <th>famrel</th>    <td>    0.2927</td> <td>    0.113</td> <td>    2.590</td> <td> 0.010</td> <td>    0.070</td> <td>    0.515</td>\n",
       "</tr>\n",
       "<tr>\n",
       "  <th>absences</th>  <td>    0.0334</td> <td>    0.012</td> <td>    2.733</td> <td> 0.007</td> <td>    0.009</td> <td>    0.058</td>\n",
       "</tr>\n",
       "<tr>\n",
       "  <th>G1</th>        <td>    0.1662</td> <td>    0.058</td> <td>    2.864</td> <td> 0.004</td> <td>    0.052</td> <td>    0.280</td>\n",
       "</tr>\n",
       "<tr>\n",
       "  <th>G2</th>        <td>    0.9758</td> <td>    0.051</td> <td>   19.204</td> <td> 0.000</td> <td>    0.876</td> <td>    1.076</td>\n",
       "</tr>\n",
       "</table>\n",
       "<table class=\"simpletable\">\n",
       "<tr>\n",
       "  <th>Omnibus:</th>       <td>208.077</td> <th>  Durbin-Watson:     </th> <td>   1.732</td>\n",
       "</tr>\n",
       "<tr>\n",
       "  <th>Prob(Omnibus):</th> <td> 0.000</td>  <th>  Jarque-Bera (JB):  </th> <td>1477.119</td>\n",
       "</tr>\n",
       "<tr>\n",
       "  <th>Skew:</th>          <td>-2.583</td>  <th>  Prob(JB):          </th> <td>    0.00</td>\n",
       "</tr>\n",
       "<tr>\n",
       "  <th>Kurtosis:</th>      <td>11.825</td>  <th>  Cond. No.          </th> <td>    100.</td>\n",
       "</tr>\n",
       "</table><br/><br/>Notes:<br/>[1] Standard Errors assume that the covariance matrix of the errors is correctly specified."
      ],
      "text/plain": [
       "<class 'statsmodels.iolib.summary.Summary'>\n",
       "\"\"\"\n",
       "                            OLS Regression Results                            \n",
       "==============================================================================\n",
       "Dep. Variable:                     G3   R-squared:                       0.836\n",
       "Model:                            OLS   Adj. R-squared:                  0.834\n",
       "Method:                 Least Squares   F-statistic:                     426.8\n",
       "Date:                Sat, 24 Dec 2022   Prob (F-statistic):          7.30e-130\n",
       "Time:                        19:30:59   Log-Likelihood:                -688.12\n",
       "No. Observations:                 339   AIC:                             1386.\n",
       "Df Residuals:                     334   BIC:                             1405.\n",
       "Df Model:                           4                                         \n",
       "Covariance Type:            nonrobust                                         \n",
       "==============================================================================\n",
       "                 coef    std err          t      P>|t|      [0.025      0.975]\n",
       "------------------------------------------------------------------------------\n",
       "Intercept     -3.1850      0.569     -5.596      0.000      -4.305      -2.065\n",
       "famrel         0.2927      0.113      2.590      0.010       0.070       0.515\n",
       "absences       0.0334      0.012      2.733      0.007       0.009       0.058\n",
       "G1             0.1662      0.058      2.864      0.004       0.052       0.280\n",
       "G2             0.9758      0.051     19.204      0.000       0.876       1.076\n",
       "==============================================================================\n",
       "Omnibus:                      208.077   Durbin-Watson:                   1.732\n",
       "Prob(Omnibus):                  0.000   Jarque-Bera (JB):             1477.119\n",
       "Skew:                          -2.583   Prob(JB):                         0.00\n",
       "Kurtosis:                      11.825   Cond. No.                         100.\n",
       "==============================================================================\n",
       "\n",
       "Notes:\n",
       "[1] Standard Errors assume that the covariance matrix of the errors is correctly specified.\n",
       "\"\"\""
      ]
     },
     "execution_count": 41,
     "metadata": {},
     "output_type": "execute_result"
    }
   ],
   "source": [
    "G3_model = pyfunc.get_best_model_OLS(df, 'G3', ['G3'], 0.05)\n",
    "G3_model.summary()"
   ]
  },
  {
   "cell_type": "markdown",
   "id": "ccffb5ed",
   "metadata": {},
   "source": [
    "### Comparando los 3 modelos descriptivos realizados"
   ]
  },
  {
   "cell_type": "markdown",
   "id": "eb7b82bf",
   "metadata": {},
   "source": [
    "Se utilizó esta función propia para comparar las métricas de los modelos de manera más cómoda sin tener que hacer scroll en el notebook."
   ]
  },
  {
   "cell_type": "code",
   "execution_count": 42,
   "id": "8e29dd89",
   "metadata": {
    "scrolled": true
   },
   "outputs": [
    {
     "data": {
      "text/html": [
       "<div>\n",
       "<style scoped>\n",
       "    .dataframe tbody tr th:only-of-type {\n",
       "        vertical-align: middle;\n",
       "    }\n",
       "\n",
       "    .dataframe tbody tr th {\n",
       "        vertical-align: top;\n",
       "    }\n",
       "\n",
       "    .dataframe thead th {\n",
       "        text-align: right;\n",
       "    }\n",
       "</style>\n",
       "<table border=\"1\" class=\"dataframe\">\n",
       "  <thead>\n",
       "    <tr style=\"text-align: right;\">\n",
       "      <th></th>\n",
       "      <th>Model</th>\n",
       "      <th>R-squared</th>\n",
       "      <th>Adj. R-Squared</th>\n",
       "      <th>Log-Likelihood</th>\n",
       "      <th>F-Stadistics</th>\n",
       "      <th>BIC</th>\n",
       "      <th>AIC</th>\n",
       "      <th>mse_model</th>\n",
       "      <th>mse_total</th>\n",
       "    </tr>\n",
       "  </thead>\n",
       "  <tbody>\n",
       "    <tr>\n",
       "      <th>0</th>\n",
       "      <td>G1_model</td>\n",
       "      <td>0.222651</td>\n",
       "      <td>0.208603</td>\n",
       "      <td>-843.530587</td>\n",
       "      <td>15.848807</td>\n",
       "      <td>1727.843175</td>\n",
       "      <td>1701.061174</td>\n",
       "      <td>137.368063</td>\n",
       "      <td>10.952034</td>\n",
       "    </tr>\n",
       "    <tr>\n",
       "      <th>1</th>\n",
       "      <td>G2_model</td>\n",
       "      <td>0.745897</td>\n",
       "      <td>0.742082</td>\n",
       "      <td>-699.029435</td>\n",
       "      <td>195.498715</td>\n",
       "      <td>1433.014871</td>\n",
       "      <td>1410.058870</td>\n",
       "      <td>720.252482</td>\n",
       "      <td>14.284303</td>\n",
       "    </tr>\n",
       "    <tr>\n",
       "      <th>2</th>\n",
       "      <td>G3_model</td>\n",
       "      <td>0.836370</td>\n",
       "      <td>0.834410</td>\n",
       "      <td>-688.116733</td>\n",
       "      <td>426.797180</td>\n",
       "      <td>1405.363467</td>\n",
       "      <td>1386.233466</td>\n",
       "      <td>1469.939763</td>\n",
       "      <td>20.799096</td>\n",
       "    </tr>\n",
       "  </tbody>\n",
       "</table>\n",
       "</div>"
      ],
      "text/plain": [
       "      Model  R-squared  Adj. R-Squared  Log-Likelihood  F-Stadistics  \\\n",
       "0  G1_model   0.222651        0.208603     -843.530587     15.848807   \n",
       "1  G2_model   0.745897        0.742082     -699.029435    195.498715   \n",
       "2  G3_model   0.836370        0.834410     -688.116733    426.797180   \n",
       "\n",
       "           BIC          AIC    mse_model  mse_total  \n",
       "0  1727.843175  1701.061174   137.368063  10.952034  \n",
       "1  1433.014871  1410.058870   720.252482  14.284303  \n",
       "2  1405.363467  1386.233466  1469.939763  20.799096  "
      ]
     },
     "execution_count": 42,
     "metadata": {},
     "output_type": "execute_result"
    }
   ],
   "source": [
    "pyfunc.compare_structure(G1_model, G2_model, G3_model)"
   ]
  },
  {
   "cell_type": "markdown",
   "id": "6bb9bad0",
   "metadata": {},
   "source": [
    ">A medida que los modelos incluyen las variables G1 o G2, su calidad aumenta. El primer modelo, que no incluye ninguna variable de calificaciones de exámenes, tiene el peor rendimiento.\n",
    "\n",
    ">El último modelo que incluye las variables G1 y G2 siempre tendrá mejor rendimiento.\n",
    "\n",
    ">Como podemos notar a través de la realización de los modelos, el factor latente o los puntajes del factor 1 que se agregaron al conjunto de datos no se utilizaron ya que fueron descartados en la iteración debido a tener un p-valor mayor a 0.05, por lo que no fueron considerados en el grupo de predictores con alta significancia estadística."
   ]
  },
  {
   "cell_type": "markdown",
   "id": "ef93e0d9",
   "metadata": {},
   "source": [
    "# Modelación Predictiva"
   ]
  },
  {
   "cell_type": "code",
   "execution_count": 43,
   "id": "a2a707e6",
   "metadata": {},
   "outputs": [],
   "source": [
    "def report_scores(predicted_values, y_test):\n",
    "    mse = mean_squared_error(y_test, predicted_values).round(1)\n",
    "    r2 = r2_score(y_test, predicted_values).round(2)\n",
    "    return print(f'Error cuadrático promedio: {mse}, R cuadrado: {r2}')"
   ]
  },
  {
   "cell_type": "code",
   "execution_count": 44,
   "id": "37eb1fef",
   "metadata": {},
   "outputs": [],
   "source": [
    "y_vec = df.loc[:, 'G3']\n",
    "X_mat = df.loc[:, G3_model.params.keys().drop('Intercept')] \n",
    "#Se pasa la data con variables que mostraron significancia estadística en el modelo descriptivo."
   ]
  },
  {
   "cell_type": "code",
   "execution_count": 45,
   "id": "0305bbc6",
   "metadata": {},
   "outputs": [
    {
     "name": "stdout",
     "output_type": "stream",
     "text": [
      "Error cuadrático promedio: 3.7, R cuadrado: 0.81\n"
     ]
    }
   ],
   "source": [
    "X_train, X_test, y_train, y_test = train_test_split(X_mat, y_vec, test_size=.33, random_state=12565)\n",
    "new_model = linear_model.LinearRegression(fit_intercept=True)\n",
    "new_model.fit(X_train.values, y_train.values)\n",
    "new_model_yhat = new_model.predict(X_test.values)\n",
    "\n",
    "report_scores(new_model_yhat, y_test)"
   ]
  },
  {
   "cell_type": "markdown",
   "id": "0b90f13b",
   "metadata": {},
   "source": [
    "El modelo tiene una diferencia promedio de <b>3.7</b> entre sus predicciones y los valores reales. Esto es un indicador de la precisión del modelo.\n",
    "\n",
    "Un <b>R-cuadrado de 0.81</b> en nuestro modelo indica que explica el 81% de la variabilidad en los datos observados."
   ]
  },
  {
   "cell_type": "markdown",
   "id": "d4b75dfe",
   "metadata": {},
   "source": [
    "## Modelo predictivo para G3 solo dejando G1 y las otras variables independientes."
   ]
  },
  {
   "cell_type": "markdown",
   "id": "1d9a7ba9",
   "metadata": {},
   "source": [
    "Dado que sería más lógico intentar predecir G3 antes de tener G1 y G2, se hizo este modelo solo utilizando G1 para analizar sus resultados."
   ]
  },
  {
   "cell_type": "code",
   "execution_count": 46,
   "id": "8c8389c4",
   "metadata": {},
   "outputs": [],
   "source": [
    "y_vec_2 = df.loc[:, 'G3']\n",
    "X_mat_2 = df.loc[:, G3_model.params.keys().drop(['Intercept', 'G2'])] \n",
    "#Se pasa la data con variables que mostraron significancia estadística en el modelo descriptivo."
   ]
  },
  {
   "cell_type": "code",
   "execution_count": 47,
   "id": "9c980a9b",
   "metadata": {},
   "outputs": [
    {
     "data": {
      "text/html": [
       "<div>\n",
       "<style scoped>\n",
       "    .dataframe tbody tr th:only-of-type {\n",
       "        vertical-align: middle;\n",
       "    }\n",
       "\n",
       "    .dataframe tbody tr th {\n",
       "        vertical-align: top;\n",
       "    }\n",
       "\n",
       "    .dataframe thead th {\n",
       "        text-align: right;\n",
       "    }\n",
       "</style>\n",
       "<table border=\"1\" class=\"dataframe\">\n",
       "  <thead>\n",
       "    <tr style=\"text-align: right;\">\n",
       "      <th></th>\n",
       "      <th>famrel</th>\n",
       "      <th>absences</th>\n",
       "      <th>G1</th>\n",
       "    </tr>\n",
       "  </thead>\n",
       "  <tbody>\n",
       "    <tr>\n",
       "      <th>0</th>\n",
       "      <td>5.0</td>\n",
       "      <td>4.0</td>\n",
       "      <td>5.0</td>\n",
       "    </tr>\n",
       "    <tr>\n",
       "      <th>1</th>\n",
       "      <td>3.0</td>\n",
       "      <td>2.0</td>\n",
       "      <td>15.0</td>\n",
       "    </tr>\n",
       "    <tr>\n",
       "      <th>2</th>\n",
       "      <td>5.0</td>\n",
       "      <td>10.0</td>\n",
       "      <td>15.0</td>\n",
       "    </tr>\n",
       "    <tr>\n",
       "      <th>3</th>\n",
       "      <td>4.0</td>\n",
       "      <td>0.0</td>\n",
       "      <td>12.0</td>\n",
       "    </tr>\n",
       "    <tr>\n",
       "      <th>4</th>\n",
       "      <td>4.0</td>\n",
       "      <td>6.0</td>\n",
       "      <td>6.0</td>\n",
       "    </tr>\n",
       "  </tbody>\n",
       "</table>\n",
       "</div>"
      ],
      "text/plain": [
       "   famrel  absences    G1\n",
       "0     5.0       4.0   5.0\n",
       "1     3.0       2.0  15.0\n",
       "2     5.0      10.0  15.0\n",
       "3     4.0       0.0  12.0\n",
       "4     4.0       6.0   6.0"
      ]
     },
     "execution_count": 47,
     "metadata": {},
     "output_type": "execute_result"
    }
   ],
   "source": [
    "X_mat_2.head(5)"
   ]
  },
  {
   "cell_type": "code",
   "execution_count": 48,
   "id": "7f06f322",
   "metadata": {},
   "outputs": [
    {
     "name": "stdout",
     "output_type": "stream",
     "text": [
      "Error cuadrático promedio: 7.6, R cuadrado: 0.6\n"
     ]
    }
   ],
   "source": [
    "X_train_2, X_test_2, y_train_2, y_test_2 = train_test_split(X_mat_2, y_vec_2, test_size=.33, random_state=12565)\n",
    "new_model_2 = linear_model.LinearRegression(fit_intercept=True)\n",
    "new_model_2.fit(X_train_2.values, y_train_2.values)\n",
    "new_model_yhat_2 = new_model_2.predict(X_test_2.values)\n",
    "\n",
    "report_scores(new_model_yhat_2, y_test_2)"
   ]
  },
  {
   "cell_type": "markdown",
   "id": "14cf904f",
   "metadata": {},
   "source": [
    "El modelo tiene una diferencia promedio de <b>7,6</b> entre sus predicciones y los valores reales. Esto es un indicador de la precisión del modelo.\n",
    "\n",
    "Un <b>R-cuadrado de 0.60</b> en nuestro modelo indica que explica el 60% de la variabilidad en los datos observados."
   ]
  },
  {
   "cell_type": "markdown",
   "id": "b4b88a5a",
   "metadata": {},
   "source": [
    "Es natural que el rendimiento del modelo predictivo para G3 disminuya al eliminar G2.\n",
    "\n",
    "\n",
    "\n"
   ]
  },
  {
   "cell_type": "code",
   "execution_count": null,
   "id": "ca50d1f2",
   "metadata": {},
   "outputs": [],
   "source": []
  }
 ],
 "metadata": {
  "kernelspec": {
   "display_name": "Python 3 (ipykernel)",
   "language": "python",
   "name": "python3"
  },
  "language_info": {
   "codemirror_mode": {
    "name": "ipython",
    "version": 3
   },
   "file_extension": ".py",
   "mimetype": "text/x-python",
   "name": "python",
   "nbconvert_exporter": "python",
   "pygments_lexer": "ipython3",
   "version": "3.9.12"
  }
 },
 "nbformat": 4,
 "nbformat_minor": 5
}
